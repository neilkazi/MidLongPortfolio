{
 "cells": [
  {
   "cell_type": "code",
   "execution_count": 12,
   "id": "b9cc2ccc-f476-4735-89f4-a458a8a218ce",
   "metadata": {},
   "outputs": [],
   "source": [
    "import yfinance as yf, time, random # Avoir accès aux données de Yahoo finance via datareader\n",
    "import pandas as pd \n",
    "from pathlib import Path #permet d'utiliser des chemins de fichiers"
   ]
  },
  {
   "cell_type": "code",
   "execution_count": 15,
   "id": "bf01ce8c-5b59-4b07-83d8-4eb2250223ed",
   "metadata": {},
   "outputs": [
    {
     "name": "stdout",
     "output_type": "stream",
     "text": [
      "✓ Adjusted prices saved → /Users/neil/Documents/MidLongPortfolio/data/prices_raw.csv\n"
     ]
    },
    {
     "data": {
      "text/html": [
       "<div>\n",
       "<style scoped>\n",
       "    .dataframe tbody tr th:only-of-type {\n",
       "        vertical-align: middle;\n",
       "    }\n",
       "\n",
       "    .dataframe tbody tr th {\n",
       "        vertical-align: top;\n",
       "    }\n",
       "\n",
       "    .dataframe thead th {\n",
       "        text-align: right;\n",
       "    }\n",
       "</style>\n",
       "<table border=\"1\" class=\"dataframe\">\n",
       "  <thead>\n",
       "    <tr style=\"text-align: right;\">\n",
       "      <th></th>\n",
       "      <th>VFV</th>\n",
       "      <th>XIU</th>\n",
       "      <th>ZAG</th>\n",
       "    </tr>\n",
       "    <tr>\n",
       "      <th>Date</th>\n",
       "      <th></th>\n",
       "      <th></th>\n",
       "      <th></th>\n",
       "    </tr>\n",
       "  </thead>\n",
       "  <tbody>\n",
       "    <tr>\n",
       "      <th>2025-07-08</th>\n",
       "      <td>151.070007</td>\n",
       "      <td>40.490002</td>\n",
       "      <td>13.75</td>\n",
       "    </tr>\n",
       "    <tr>\n",
       "      <th>2025-07-09</th>\n",
       "      <td>151.970001</td>\n",
       "      <td>40.580002</td>\n",
       "      <td>13.80</td>\n",
       "    </tr>\n",
       "    <tr>\n",
       "      <th>2025-07-10</th>\n",
       "      <td>152.190002</td>\n",
       "      <td>40.779999</td>\n",
       "      <td>13.77</td>\n",
       "    </tr>\n",
       "    <tr>\n",
       "      <th>2025-07-11</th>\n",
       "      <td>151.910004</td>\n",
       "      <td>40.650002</td>\n",
       "      <td>13.69</td>\n",
       "    </tr>\n",
       "    <tr>\n",
       "      <th>2025-07-14</th>\n",
       "      <td>152.360001</td>\n",
       "      <td>40.939999</td>\n",
       "      <td>13.68</td>\n",
       "    </tr>\n",
       "  </tbody>\n",
       "</table>\n",
       "</div>"
      ],
      "text/plain": [
       "                   VFV        XIU    ZAG\n",
       "Date                                    \n",
       "2025-07-08  151.070007  40.490002  13.75\n",
       "2025-07-09  151.970001  40.580002  13.80\n",
       "2025-07-10  152.190002  40.779999  13.77\n",
       "2025-07-11  151.910004  40.650002  13.69\n",
       "2025-07-14  152.360001  40.939999  13.68"
      ]
     },
     "execution_count": 15,
     "metadata": {},
     "output_type": "execute_result"
    }
   ],
   "source": [
    "tickers = [\"VFV\", \"XIU\", \"ZAG\"]\n",
    "\n",
    "#on va télécharger les prix de ces trois ETF depuis le 01.01.2015\n",
    "\n",
    "TICKERS = [\"VFV.TO\", \"XIU.TO\", \"ZAG.TO\"]\n",
    "START   = \"2015-01-01\"\n",
    "prices  = pd.DataFrame()\n",
    "\n",
    "def fetch_adj_close(tick, start, retries=6):\n",
    "    #télécharger les données Yahoo avec back-off; return the ‘Close’ series (déjà ajusté).#\n",
    "    \n",
    "    for k in range(retries):\n",
    "        df = yf.download(tick, start=start, progress=False, threads=False)  # auto_adjust=True par défaut. le prix est ajusté au dividende et au split \n",
    "        if not df.empty:\n",
    "            return df[\"Close\"]                # total-return series, si la requête réussie, on renvoie à la série close \n",
    "            \n",
    "        wait = 3 * 2**k + random.random()     # 3 s, 6 s, 12 s… c'est le temps d'attente pour contourner l'erreur de multi requête au serveur de yahoo \n",
    "        print(f\"{tick}: rate-limited, retry in {wait:.1f} s\")\n",
    "        time.sleep(wait)\n",
    "    raise RuntimeError(f\"Failed to fetch {tick} after {retries} retries\") #Indique que si l'erreur persiste c'est qu'il n'y a pas de donnée concernant le tickers en question sur Yahoo\n",
    "\n",
    "\n",
    "for t in TICKERS:\n",
    "    prices[t.split(\".\")[0]] = fetch_adj_close(t, START) #Permet de traiter chaque tickers un à un \n",
    "\n",
    "#la site permet de sauvegarder mes prix \n",
    "out = Path(\"..\") / \"data\" / \"prices_raw.csv\"\n",
    "prices.to_csv(out)\n",
    "print(\"✓ Adjusted prices saved →\", out.resolve())\n",
    "prices.tail()\n",
    "#prices est un DataFrame (tableau) indexé par date. Les colonnes sont les tickers et les lignes les colonnes. À l'intérieur c'est les prix. "
   ]
  },
  {
   "cell_type": "code",
   "execution_count": 16,
   "id": "9495649e-90ee-4f8e-9de1-edc647e2e635",
   "metadata": {},
   "outputs": [
    {
     "data": {
      "text/plain": [
       "VFV    0\n",
       "XIU    0\n",
       "ZAG    0\n",
       "dtype: int64"
      ]
     },
     "execution_count": 16,
     "metadata": {},
     "output_type": "execute_result"
    }
   ],
   "source": [
    "prices.isna().sum() #s'assure qu'il n'y a pas de trou dans la série ce qui pourrait poser problème par la suite. Si 0 = pas de trous "
   ]
  },
  {
   "cell_type": "code",
   "execution_count": null,
   "id": "dff50a69-970d-43ef-9fc0-5a6fac931366",
   "metadata": {},
   "outputs": [],
   "source": []
  }
 ],
 "metadata": {
  "kernelspec": {
   "display_name": "Python 3 (ipykernel)",
   "language": "python",
   "name": "python3"
  },
  "language_info": {
   "codemirror_mode": {
    "name": "ipython",
    "version": 3
   },
   "file_extension": ".py",
   "mimetype": "text/x-python",
   "name": "python",
   "nbconvert_exporter": "python",
   "pygments_lexer": "ipython3",
   "version": "3.12.11"
  }
 },
 "nbformat": 4,
 "nbformat_minor": 5
}
