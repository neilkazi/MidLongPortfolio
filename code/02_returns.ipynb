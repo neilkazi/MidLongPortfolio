{
 "cells": [
  {
   "cell_type": "code",
   "execution_count": 6,
   "id": "44ec3120-a6b8-4672-909c-312abf6c67d7",
   "metadata": {},
   "outputs": [],
   "source": [
    "import pandas as pd\n",
    "from pathlib import Path\n",
    "\n",
    "# Chemin vers le CSV sauvegardé (../ car on part de code/)\n",
    "csv_path = Path(\"..\") / \"data\" / \"prices_raw.csv\""
   ]
  },
  {
   "cell_type": "code",
   "execution_count": 9,
   "id": "43ef299a-44f8-4f64-8826-3cce4ad5dbb9",
   "metadata": {},
   "outputs": [
    {
     "name": "stdout",
     "output_type": "stream",
     "text": [
      "Dimensions : (2643, 3)\n"
     ]
    },
    {
     "data": {
      "text/html": [
       "<div>\n",
       "<style scoped>\n",
       "    .dataframe tbody tr th:only-of-type {\n",
       "        vertical-align: middle;\n",
       "    }\n",
       "\n",
       "    .dataframe tbody tr th {\n",
       "        vertical-align: top;\n",
       "    }\n",
       "\n",
       "    .dataframe thead th {\n",
       "        text-align: right;\n",
       "    }\n",
       "</style>\n",
       "<table border=\"1\" class=\"dataframe\">\n",
       "  <thead>\n",
       "    <tr style=\"text-align: right;\">\n",
       "      <th></th>\n",
       "      <th>VFV</th>\n",
       "      <th>XIU</th>\n",
       "      <th>ZAG</th>\n",
       "    </tr>\n",
       "    <tr>\n",
       "      <th>Date</th>\n",
       "      <th></th>\n",
       "      <th></th>\n",
       "      <th></th>\n",
       "    </tr>\n",
       "  </thead>\n",
       "  <tbody>\n",
       "    <tr>\n",
       "      <th>2015-01-02</th>\n",
       "      <td>37.097408</td>\n",
       "      <td>16.031300</td>\n",
       "      <td>11.432718</td>\n",
       "    </tr>\n",
       "    <tr>\n",
       "      <th>2015-01-05</th>\n",
       "      <td>36.346500</td>\n",
       "      <td>15.609818</td>\n",
       "      <td>11.475917</td>\n",
       "    </tr>\n",
       "    <tr>\n",
       "      <th>2015-01-06</th>\n",
       "      <td>36.251537</td>\n",
       "      <td>15.476708</td>\n",
       "      <td>11.504714</td>\n",
       "    </tr>\n",
       "    <tr>\n",
       "      <th>2015-01-07</th>\n",
       "      <td>36.665848</td>\n",
       "      <td>15.521077</td>\n",
       "      <td>11.519116</td>\n",
       "    </tr>\n",
       "    <tr>\n",
       "      <th>2015-01-08</th>\n",
       "      <td>37.373615</td>\n",
       "      <td>15.742924</td>\n",
       "      <td>11.461517</td>\n",
       "    </tr>\n",
       "  </tbody>\n",
       "</table>\n",
       "</div>"
      ],
      "text/plain": [
       "                  VFV        XIU        ZAG\n",
       "Date                                       \n",
       "2015-01-02  37.097408  16.031300  11.432718\n",
       "2015-01-05  36.346500  15.609818  11.475917\n",
       "2015-01-06  36.251537  15.476708  11.504714\n",
       "2015-01-07  36.665848  15.521077  11.519116\n",
       "2015-01-08  37.373615  15.742924  11.461517"
      ]
     },
     "execution_count": 9,
     "metadata": {},
     "output_type": "execute_result"
    }
   ],
   "source": [
    "prices = pd.read_csv(csv_path, index_col=0, parse_dates=True)\n",
    "\n",
    "# Ici index_col permet que la colonne date devienne l'index  et parse_dates permet de transformer la date d'un texte en objet date \n",
    "\n",
    "print (\"Dimensions :\", prices.shape)\n",
    "prices.head()"
   ]
  },
  {
   "cell_type": "code",
   "execution_count": 11,
   "id": "9b1fbffe-1104-44bf-aa88-2abc458d4bfb",
   "metadata": {},
   "outputs": [
    {
     "data": {
      "text/html": [
       "<div>\n",
       "<style scoped>\n",
       "    .dataframe tbody tr th:only-of-type {\n",
       "        vertical-align: middle;\n",
       "    }\n",
       "\n",
       "    .dataframe tbody tr th {\n",
       "        vertical-align: top;\n",
       "    }\n",
       "\n",
       "    .dataframe thead th {\n",
       "        text-align: right;\n",
       "    }\n",
       "</style>\n",
       "<table border=\"1\" class=\"dataframe\">\n",
       "  <thead>\n",
       "    <tr style=\"text-align: right;\">\n",
       "      <th></th>\n",
       "      <th>VFV</th>\n",
       "      <th>XIU</th>\n",
       "      <th>ZAG</th>\n",
       "    </tr>\n",
       "    <tr>\n",
       "      <th>Date</th>\n",
       "      <th></th>\n",
       "      <th></th>\n",
       "      <th></th>\n",
       "    </tr>\n",
       "  </thead>\n",
       "  <tbody>\n",
       "    <tr>\n",
       "      <th>2015-02-28</th>\n",
       "      <td>0.041121</td>\n",
       "      <td>0.038285</td>\n",
       "      <td>-0.001744</td>\n",
       "    </tr>\n",
       "    <tr>\n",
       "      <th>2015-03-31</th>\n",
       "      <td>-0.003815</td>\n",
       "      <td>-0.020445</td>\n",
       "      <td>-0.003590</td>\n",
       "    </tr>\n",
       "    <tr>\n",
       "      <th>2015-04-30</th>\n",
       "      <td>-0.038967</td>\n",
       "      <td>0.020548</td>\n",
       "      <td>-0.012792</td>\n",
       "    </tr>\n",
       "    <tr>\n",
       "      <th>2015-05-31</th>\n",
       "      <td>0.045027</td>\n",
       "      <td>-0.010738</td>\n",
       "      <td>0.000710</td>\n",
       "    </tr>\n",
       "    <tr>\n",
       "      <th>2015-06-30</th>\n",
       "      <td>-0.015795</td>\n",
       "      <td>-0.029211</td>\n",
       "      <td>-0.004891</td>\n",
       "    </tr>\n",
       "  </tbody>\n",
       "</table>\n",
       "</div>"
      ],
      "text/plain": [
       "                 VFV       XIU       ZAG\n",
       "Date                                    \n",
       "2015-02-28  0.041121  0.038285 -0.001744\n",
       "2015-03-31 -0.003815 -0.020445 -0.003590\n",
       "2015-04-30 -0.038967  0.020548 -0.012792\n",
       "2015-05-31  0.045027 -0.010738  0.000710\n",
       "2015-06-30 -0.015795 -0.029211 -0.004891"
      ]
     },
     "execution_count": 11,
     "metadata": {},
     "output_type": "execute_result"
    }
   ],
   "source": [
    "# Le code qui suit permet de calculer les rendements mensuels \n",
    "# resample (\"ME\") prend le dernier prix du mois \n",
    "# pc_changes calcul la variation du prix MoM\n",
    "# dropna empêche de calculer la variation lors du premier mois car il n'y a pas décembre 2014\n",
    "\n",
    "returns = (prices.resample(\"ME\").last().pct_change().dropna())\n",
    "returns.head()"
   ]
  },
  {
   "cell_type": "code",
   "execution_count": 12,
   "id": "55e1af49-878e-4d2a-9b78-2ac011d50f6a",
   "metadata": {},
   "outputs": [
    {
     "name": "stdout",
     "output_type": "stream",
     "text": [
      "✓ Rendements mensuels enregistrés -> ../data/returns_monthly.csv\n"
     ]
    }
   ],
   "source": [
    "#Sauvegarde du csv \n",
    "\n",
    "out = Path(\"..\") / \"data\" / \"returns_monthly.csv\"\n",
    "returns.to_csv(out)\n",
    "print(\"✓ Rendements mensuels enregistrés ->\", out)"
   ]
  },
  {
   "cell_type": "code",
   "execution_count": 17,
   "id": "c8c6c04f-8df5-4b63-91e1-f77ba84dfae6",
   "metadata": {},
   "outputs": [
    {
     "data": {
      "image/png": "[encoded data removed]",
      "text/plain": [
       "<Figure size 400x300 with 2 Axes>"
      ]
     },
     "metadata": {},
     "output_type": "display_data"
    }
   ],
   "source": [
    "#Représentation visuelle de la corrélation (heatmap)\n",
    "\n",
    "import matplotlib.pyplot as plt\n",
    "import numpy as np\n",
    "\n",
    "corr = returns.corr() #calcul de la matrice de corrélation de Pearson\n",
    "\n",
    "#création de la figure \n",
    "\n",
    "fig, ax = plt.subplots(figsize=(4, 3))\n",
    "im = ax.imshow(corr, vmin=-1, vmax=1, cmap=\"RdYlGn\") #définit que l'on montre la corrélation, définie entre -1 et 1 sur la figure\n",
    "\n",
    "# Insertion des tickers et des titres sur la figure\n",
    "\n",
    "ax.set_xticks(np.arange(len(corr.columns)))\n",
    "ax.set_yticks(np.arange(len(corr.columns))) # sur les deux lignes là on crée les positions (0,1,2) des graduations (ticks) sur X et Y.\n",
    "\n",
    "ax.set_xticklabels(corr.columns)\n",
    "ax.set_yticklabels(corr.columns)\n",
    "plt.setp(ax.get_xticklabels(), rotation=45, ha=\"right\") #paramètre de visualisation inclinaison des tickers\n",
    "\n",
    "# -----------  valeurs dans les cases  -----------\n",
    "for i in range(len(corr.columns)):\n",
    "    for j in range(len(corr.columns)):\n",
    "        value = corr.iloc[i, j]\n",
    "        txt_color = \"white\" if abs(value) > 0.5 else \"black\"  # contraste lisible\n",
    "        ax.text(j, i, f\"{value:.2f}\",\n",
    "                ha=\"center\", va=\"center\",\n",
    "                color=txt_color, fontsize=8)\n",
    "\n",
    "# barre de couleurs + titre\n",
    "fig.colorbar(im, ax=ax, fraction=0.046, pad=0.04)\n",
    "ax.set_title(\"Corrélations mensuelles 2015-2025\")\n",
    "plt.tight_layout()\n",
    "plt.show()"
   ]
  },
  {
   "cell_type": "code",
   "execution_count": null,
   "id": "9c7163a0-32d8-4d73-a0bd-0df106ea4cc8",
   "metadata": {},
   "outputs": [],
   "source": []
  }
 ],
 "metadata": {
  "kernelspec": {
   "display_name": "Python 3 (ipykernel)",
   "language": "python",
   "name": "python3"
  },
  "language_info": {
   "codemirror_mode": {
    "name": "ipython",
    "version": 3
   },
   "file_extension": ".py",
   "mimetype": "text/x-python",
   "name": "python",
   "nbconvert_exporter": "python",
   "pygments_lexer": "ipython3",
   "version": "3.12.11"
  }
 },
 "nbformat": 4,
 "nbformat_minor": 5
}
