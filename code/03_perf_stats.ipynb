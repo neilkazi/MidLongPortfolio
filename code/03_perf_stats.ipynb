{
 "cells": [
  {
   "cell_type": "code",
   "execution_count": 2,
   "id": "c5dc47e0-97a1-4586-9a75-5826a96a5a5f",
   "metadata": {},
   "outputs": [],
   "source": [
    "#Importation des modules \n",
    "\n",
    "import pandas as pd\n",
    "import numpy as np\n",
    "import matplotlib.pyplot as plt \n",
    "from pandas_datareader.data import DataReader\n",
    "from pathlib import Path\n",
    "import requests, io"
   ]
  },
  {
   "cell_type": "code",
   "execution_count": 3,
   "id": "639eef60-febd-437a-a5d7-3f2a1c4fd730",
   "metadata": {},
   "outputs": [
    {
     "name": "stdout",
     "output_type": "stream",
     "text": [
      "Dimensions : (126, 3)\n"
     ]
    },
    {
     "data": {
      "text/html": [
       "<div>\n",
       "<style scoped>\n",
       "    .dataframe tbody tr th:only-of-type {\n",
       "        vertical-align: middle;\n",
       "    }\n",
       "\n",
       "    .dataframe tbody tr th {\n",
       "        vertical-align: top;\n",
       "    }\n",
       "\n",
       "    .dataframe thead th {\n",
       "        text-align: right;\n",
       "    }\n",
       "</style>\n",
       "<table border=\"1\" class=\"dataframe\">\n",
       "  <thead>\n",
       "    <tr style=\"text-align: right;\">\n",
       "      <th></th>\n",
       "      <th>VFV</th>\n",
       "      <th>XIU</th>\n",
       "      <th>ZAG</th>\n",
       "    </tr>\n",
       "    <tr>\n",
       "      <th>Date</th>\n",
       "      <th></th>\n",
       "      <th></th>\n",
       "      <th></th>\n",
       "    </tr>\n",
       "  </thead>\n",
       "  <tbody>\n",
       "    <tr>\n",
       "      <th>2015-02-28</th>\n",
       "      <td>0.041121</td>\n",
       "      <td>0.038285</td>\n",
       "      <td>-0.001744</td>\n",
       "    </tr>\n",
       "    <tr>\n",
       "      <th>2015-03-31</th>\n",
       "      <td>-0.003815</td>\n",
       "      <td>-0.020445</td>\n",
       "      <td>-0.003590</td>\n",
       "    </tr>\n",
       "    <tr>\n",
       "      <th>2015-04-30</th>\n",
       "      <td>-0.038967</td>\n",
       "      <td>0.020548</td>\n",
       "      <td>-0.012792</td>\n",
       "    </tr>\n",
       "    <tr>\n",
       "      <th>2015-05-31</th>\n",
       "      <td>0.045027</td>\n",
       "      <td>-0.010738</td>\n",
       "      <td>0.000710</td>\n",
       "    </tr>\n",
       "    <tr>\n",
       "      <th>2015-06-30</th>\n",
       "      <td>-0.015795</td>\n",
       "      <td>-0.029211</td>\n",
       "      <td>-0.004891</td>\n",
       "    </tr>\n",
       "  </tbody>\n",
       "</table>\n",
       "</div>"
      ],
      "text/plain": [
       "                 VFV       XIU       ZAG\n",
       "Date                                    \n",
       "2015-02-28  0.041121  0.038285 -0.001744\n",
       "2015-03-31 -0.003815 -0.020445 -0.003590\n",
       "2015-04-30 -0.038967  0.020548 -0.012792\n",
       "2015-05-31  0.045027 -0.010738  0.000710\n",
       "2015-06-30 -0.015795 -0.029211 -0.004891"
      ]
     },
     "execution_count": 3,
     "metadata": {},
     "output_type": "execute_result"
    }
   ],
   "source": [
    "#lecture des rendements mensuels\n",
    "# index --> colonne date devient l'index\n",
    "# parse --> tranforme la date en objet date\n",
    "returns = pd.read_csv(\"../data/returns_monthly.csv\", index_col=0, parse_dates=True)\n",
    "\n",
    "print(\"Dimensions :\", returns.shape)\n",
    "returns.head()"
   ]
  },
  {
   "cell_type": "code",
   "execution_count": 4,
   "id": "53b6dfe5-785c-4790-bcb7-bbf3290f6c23",
   "metadata": {},
   "outputs": [
    {
     "name": "stdout",
     "output_type": "stream",
     "text": [
      "00: ﻿\"TERMS AND CONDITIONS\"\n",
      "01: \"https://www.bankofcanada.ca/terms/\"\n",
      "02: \n",
      "03: \"NAME\"\n",
      "04: \"Selected Treasury Bill Yields - Weekly: Wednesday\"\n",
      "05: \n",
      "06: \"DESCRIPTION\"\n",
      "07: \"1, 3, 6 and 12 month Treasury bill data.\"\n",
      "08: \n",
      "09: \"LINK\"\n",
      "10: \"https://www.bankofcanada.ca/?p=39889\"\n",
      "11: \n",
      "12: \"SERIES\"\n",
      "13: \"id\",\"label\",\"description\"\n",
      "14: \"V80691342\",\"1 month\",\"Treasury bills\"\n",
      "15: \"V80691344\",\"3 month\",\"Treasury bills\"\n",
      "16: \"V80691345\",\"6 month\",\"Treasury bills\"\n",
      "17: \"V80691346\",\"1 year\",\"Treasury bills\"\n",
      "18: \n",
      "19: \"OBSERVATIONS\"\n",
      "20: \"date\",\"V80691342\",\"V80691344\",\"V80691345\",\"V80691346\"\n",
      "21: \"2025-01-01\",\"3.19\",\"3.16\",\"3.09\",\"3.03\"\n",
      "22: \"2025-01-08\",\"3.14\",\"3.11\",\"3.06\",\"3.01\"\n",
      "23: \"2025-01-15\",\"3.14\",\"3.10\",\"3.08\",\"3.09\"\n",
      "24: \"2025-01-22\",\"3.09\",\"3.03\",\"2.98\",\"3.01\"\n",
      "25: \"2025-01-29\",\"2.99\",\"2.89\",\"2.90\",\"2.89\"\n"
     ]
    }
   ],
   "source": [
    "#On observe rapidement à quoi ressemble la série pour corriger le code de la suite \n",
    "import requests, textwrap\n",
    "\n",
    "url_dbg = (\n",
    "    \"https://www.bankofcanada.ca/valet/observations/group/\"\n",
    "    \"tbill_wednesday/csv?start_date=2025-01-01&end_date=2025-01-31\"\n",
    ")\n",
    "\n",
    "raw_lines = requests.get(url_dbg, timeout=10).text.splitlines()\n",
    "\n",
    "# Affiche les 40 premières lignes avec numéros\n",
    "for i, ln in enumerate(raw_lines[:40]):\n",
    "    print(f\"{i:02d}: {ln}\")"
   ]
  },
  {
   "cell_type": "code",
   "execution_count": 5,
   "id": "0cf85ed7-39dd-4c22-92a8-dd28382b69d4",
   "metadata": {},
   "outputs": [
    {
     "data": {
      "text/plain": [
       "date\n",
       "2015-03-31    0.000450\n",
       "2015-04-30    0.000550\n",
       "2015-05-31    0.000525\n",
       "2015-06-30    0.000483\n",
       "2015-07-31    0.000342\n",
       "Freq: ME, Name: RF, dtype: float64"
      ]
     },
     "metadata": {},
     "output_type": "display_data"
    }
   ],
   "source": [
    "# ── 1. Période alignée sur 'returns' ────────────────────────────────────\n",
    "start = returns.index[0].strftime(\"%Y-%m-%d\")\n",
    "end   = returns.index[-1].strftime(\"%Y-%m-%d\")\n",
    "\n",
    "url = ( \"https://www.bankofcanada.ca/valet/observations/group/\"\n",
    "        f\"tbill_wednesday/csv?start_date={start}&end_date={end}\" )\n",
    "\n",
    "csv_lines = requests.get(url, timeout=10).text.splitlines()\n",
    "\n",
    "# ── 2. Trouver la vraie ligne d'en-tête  (\"date\", \"V80691344\", …) ───────\n",
    "for i, ln in enumerate(csv_lines):\n",
    "    if ln.lower().startswith('\"date\"') and \"v80691344\" in ln.lower():\n",
    "        header_idx = i\n",
    "        break\n",
    "else:\n",
    "    raise RuntimeError(\"En-tête contenant V80691344 introuvable.\")\n",
    "\n",
    "data_str = \"\\n\".join(csv_lines[header_idx:])   # header + observations\n",
    "\n",
    "# ── 3. Lecture pandas  ---------------------------------------------------\n",
    "df = pd.read_csv(io.StringIO(data_str))\n",
    "\n",
    "# Colonnes : date, V80691342, V80691344, …\n",
    "df.columns = [c.strip().lower() for c in df.columns]\n",
    "rf_daily = (df[[\"date\", \"v80691344\"]]\n",
    "              .rename(columns={\"v80691344\": \"yield\"}))\n",
    "rf_daily[\"date\"] = pd.to_datetime(rf_daily[\"date\"])\n",
    "rf_daily[\"yield\"] = rf_daily[\"yield\"].astype(float)\n",
    "rf_daily = rf_daily.set_index(\"date\").sort_index()\n",
    "\n",
    "# ── 4. Fin de mois  →  rendement mensuel décimal ------------------------\n",
    "rf_monthly = (\n",
    "    rf_daily[\"yield\"]\n",
    "      .resample(\"ME\").last()\n",
    "      .ffill()\n",
    "      .div(100)          # 4.55 % → 0.0455 (annuel)\n",
    "      .div(12)           # annuel → mensuel décimal\n",
    "      .rename(\"RF\")\n",
    ")\n",
    "\n",
    "display(rf_monthly.head())# contrôle visuel\n",
    "rf_monthly.to_csv(\"../data/rf_monthly.csv\")\n"
   ]
  },
  {
   "cell_type": "code",
   "execution_count": 6,
   "id": "7c29af94-2ff7-4998-a25d-647f1bc100ad",
   "metadata": {},
   "outputs": [
    {
     "data": {
      "text/html": [
       "<div>\n",
       "<style scoped>\n",
       "    .dataframe tbody tr th:only-of-type {\n",
       "        vertical-align: middle;\n",
       "    }\n",
       "\n",
       "    .dataframe tbody tr th {\n",
       "        vertical-align: top;\n",
       "    }\n",
       "\n",
       "    .dataframe thead th {\n",
       "        text-align: right;\n",
       "    }\n",
       "</style>\n",
       "<table border=\"1\" class=\"dataframe\">\n",
       "  <thead>\n",
       "    <tr style=\"text-align: right;\">\n",
       "      <th></th>\n",
       "      <th>Annual Return %</th>\n",
       "      <th>Volatility %</th>\n",
       "      <th>Sharpe</th>\n",
       "    </tr>\n",
       "  </thead>\n",
       "  <tbody>\n",
       "    <tr>\n",
       "      <th>VFV</th>\n",
       "      <td>13.93</td>\n",
       "      <td>13.05</td>\n",
       "      <td>0.91</td>\n",
       "    </tr>\n",
       "    <tr>\n",
       "      <th>XIU</th>\n",
       "      <td>9.73</td>\n",
       "      <td>12.41</td>\n",
       "      <td>0.62</td>\n",
       "    </tr>\n",
       "    <tr>\n",
       "      <th>ZAG</th>\n",
       "      <td>1.44</td>\n",
       "      <td>5.29</td>\n",
       "      <td>-0.05</td>\n",
       "    </tr>\n",
       "  </tbody>\n",
       "</table>\n",
       "</div>"
      ],
      "text/plain": [
       "     Annual Return %  Volatility %  Sharpe\n",
       "VFV            13.93         13.05    0.91\n",
       "XIU             9.73         12.41    0.62\n",
       "ZAG             1.44          5.29   -0.05"
      ]
     },
     "metadata": {},
     "output_type": "display_data"
    }
   ],
   "source": [
    "# calcul du sigma et ratio de Sharpe\n",
    "\n",
    "ANN = 12\n",
    "excess = returns.sub(rf_monthly, axis=0)\n",
    "\n",
    "stats = pd.DataFrame({\"Annual Return %\": returns.mean()*ANN*100, \"Volatility %\": returns.std()*np.sqrt(ANN)*100, \"Sharpe\": excess.mean()/returns.std()*np.sqrt(ANN)}).round(2)\n",
    "\n",
    "display(stats)\n",
    "stats.to_csv(\"../data/perf_stats.csv\")"
   ]
  },
  {
   "cell_type": "code",
   "execution_count": null,
   "id": "3729a629-2ac3-450c-8522-1cf114d8c185",
   "metadata": {},
   "outputs": [],
   "source": []
  }
 ],
 "metadata": {
  "kernelspec": {
   "display_name": "Python 3 (ipykernel)",
   "language": "python",
   "name": "python3"
  },
  "language_info": {
   "codemirror_mode": {
    "name": "ipython",
    "version": 3
   },
   "file_extension": ".py",
   "mimetype": "text/x-python",
   "name": "python",
   "nbconvert_exporter": "python",
   "pygments_lexer": "ipython3",
   "version": "3.12.11"
  }
 },
 "nbformat": 4,
 "nbformat_minor": 5
}
